{
  "nbformat": 4,
  "nbformat_minor": 0,
  "metadata": {
    "colab": {
      "private_outputs": true,
      "provenance": [],
      "authorship_tag": "ABX9TyOMQuQIWUpqdI9jzdARSSDy",
      "include_colab_link": true
    },
    "kernelspec": {
      "name": "python3",
      "display_name": "Python 3"
    },
    "language_info": {
      "name": "python"
    }
  },
  "cells": [
    {
      "cell_type": "markdown",
      "metadata": {
        "id": "view-in-github",
        "colab_type": "text"
      },
      "source": [
        "<a href=\"https://colab.research.google.com/github/genie0320/digital-detox/blob/ipynb/Digital_detox_drive.ipynb\" target=\"_parent\"><img src=\"https://colab.research.google.com/assets/colab-badge.svg\" alt=\"Open In Colab\"/></a>"
      ]
    },
    {
      "cell_type": "code",
      "execution_count": null,
      "metadata": {
        "id": "7IYKpeTgj6iP"
      },
      "outputs": [],
      "source": [
        "pip install -U pip google-api-python-client oauth2client -q"
      ]
    },
    {
      "cell_type": "code",
      "source": [
        "!python3 -c \"import googleapiclient, httplib2, oauth2client\""
      ],
      "metadata": {
        "id": "c_rj592Ykdbk"
      },
      "execution_count": null,
      "outputs": []
    },
    {
      "cell_type": "code",
      "source": [
        "from __future__ import print_function\n",
        "\n",
        "from googleapiclient import discovery\n",
        "from httplib2 import Http\n",
        "from oauth2client import file, client, tools\n",
        "\n",
        "SCOPES = 'https://www.googleapis.com/auth/drive.readonly.metadata'\n",
        "store = file.Storage('storage.json')\n",
        "creds = store.get()\n",
        "if not creds or creds.invalid:\n",
        "    flow = client.flow_from_clientsecrets('/content/client_secret.json', SCOPES)\n",
        "    # creds = tools.run_flow(flow, store)\n",
        "    creds = tools.run_flow(flow, store,flags=tools.argparser.parse_args(['--noauth_local_webserver']))\n",
        "DRIVE = discovery.build('drive', 'v3', http=creds.authorize(Http()))\n",
        "\n",
        "files = DRIVE.files().list().execute().get('files', [])\n",
        "for f in files:\n",
        "    print(f['name'], f['mimeType'])"
      ],
      "metadata": {
        "collapsed": true,
        "id": "zs4b8-MhoeeP"
      },
      "execution_count": null,
      "outputs": []
    },
    {
      "cell_type": "code",
      "source": [],
      "metadata": {
        "id": "WAZwrYrPsZfJ"
      },
      "execution_count": null,
      "outputs": []
    }
  ]
}