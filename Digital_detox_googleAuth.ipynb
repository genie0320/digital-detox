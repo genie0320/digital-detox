{
  "nbformat": 4,
  "nbformat_minor": 0,
  "metadata": {
    "colab": {
      "private_outputs": true,
      "provenance": [],
      "collapsed_sections": [
        "X1Nw2TZLm7ya"
      ],
      "authorship_tag": "ABX9TyOQliM/q9ukK8ruILcnCDj/",
      "include_colab_link": true
    },
    "kernelspec": {
      "name": "python3",
      "display_name": "Python 3"
    },
    "language_info": {
      "name": "python"
    }
  },
  "cells": [
    {
      "cell_type": "markdown",
      "metadata": {
        "id": "view-in-github",
        "colab_type": "text"
      },
      "source": [
        "<a href=\"https://colab.research.google.com/github/genie0320/digital-spa/blob/ipynb/Digital_detox_googleAuth.ipynb\" target=\"_parent\"><img src=\"https://colab.research.google.com/assets/colab-badge.svg\" alt=\"Open In Colab\"/></a>"
      ]
    },
    {
      "cell_type": "markdown",
      "source": [
        "# 구글의 인증방식 발전사.\n",
        "\n",
        "\n",
        "```"
      ],
      "metadata": {
        "id": "cxCBuDqLhx3k"
      }
    },
    {
      "cell_type": "markdown",
      "source": [
        "Error: could not locate runnable browser\n",
        "\n",
        "\n",
        "\n",
        "AttributeError: 'InstalledAppFlow' object has no attribute 'run_console'\n",
        "\n",
        "\n"
      ],
      "metadata": {
        "id": "8YWsEYH5qmS7"
      }
    },
    {
      "cell_type": "code",
      "source": [
        "from traitlets.config import Config\n",
        "\n",
        "c = Config()\n",
        "c.NotebookApp.browser = \"C:\\Program Files\\Google\\Chrome\\Application\\chrome.exe %s\""
      ],
      "metadata": {
        "id": "cebDNQgd17Z-"
      },
      "execution_count": null,
      "outputs": []
    },
    {
      "cell_type": "code",
      "source": [
        "!pip install -U pip google-api-python-client oauth2client -q\n",
        "\"\"\"\n",
        "# OSError: [Errno 98] Address already in use\n",
        "creds = flow.run_local_server()\n",
        "> creds = flow.run_local_server(port=7979)\n",
        "\n",
        "# Error: could not locate runnable browser\n",
        "creds = flow.run_local_server(\n",
        "    open_browser=False\n",
        ")\n",
        "\n",
        "# OSError: [Errno 98] Address already in use\n",
        "creds = flow.run_local_server(\n",
        "    port=10000\n",
        ")\n",
        "\"\"\"\n",
        "# !pip install --upgrade google-api-python-client google-auth-httplib2 google-auth-oauthlib -q\n",
        "# ERROR: pip's dependency resolver does not currently take into account all the packages that are installed. This behaviour is the source of the following dependency conflicts.\n",
        "# google-colab 1.0.0 requires google-auth==2.27.0, but you have google-auth 2.35.0 which is incompatible.\n",
        "\n",
        "# !pip install google-api-python-client==1.7.2 google-auth==1.8.0 google-auth-httplib2==0.0.3 google-auth-oauthlib==0.4.1 -q"
      ],
      "metadata": {
        "id": "HYks-8uap3ar"
      },
      "execution_count": null,
      "outputs": []
    },
    {
      "cell_type": "code",
      "source": [
        "import os.path\n",
        "\n",
        "from google.auth.transport.requests import Request\n",
        "from google.oauth2.credentials import Credentials\n",
        "from google_auth_oauthlib.flow import InstalledAppFlow\n",
        "from googleapiclient.discovery import build\n",
        "from googleapiclient.errors import HttpError\n",
        "\n",
        "# If modifying these scopes, delete the file token.json.\n",
        "SCOPES = [\"https://www.googleapis.com/auth/gmail.readonly\"]\n",
        "\n",
        "\n",
        "def main():\n",
        "    \"\"\"Shows basic usage of the Gmail API.\n",
        "    Lists the user's Gmail labels.\n",
        "    \"\"\"\n",
        "    creds = None\n",
        "    storage = '/content/token.json'\n",
        "    # The file token.json stores the user's access and refresh tokens, and is\n",
        "    # created automatically when the authorization flow completes for the first\n",
        "    # time.\n",
        "    if os.path.exists(storage):\n",
        "        creds = Credentials.from_authorized_user_file(storage, SCOPES)\n",
        "    # If there are no (valid) credentials available, let the user log in.\n",
        "    if not creds or not creds.valid:\n",
        "        if creds and creds.expired and creds.refresh_token:\n",
        "            creds.refresh(Request())\n",
        "        else:\n",
        "            flow = InstalledAppFlow.from_client_secrets_file(\n",
        "                \"/content/client_secret.json\", SCOPES\n",
        "            )\n",
        "\n",
        "            creds = flow.run_local_server(port=4073, open_browser=False)\n",
        "\n",
        "        # Save the credentials for the next run\n",
        "        with open(storage, \"w\") as token:\n",
        "            token.write(creds.to_json())\n",
        "\n",
        "    try:\n",
        "        # Call the Gmail API\n",
        "        service = build(\"gmail\", \"v1\", credentials=creds)\n",
        "        results = service.users().labels().list(userId=\"me\").execute()\n",
        "        labels = results.get(\"labels\", [])\n",
        "\n",
        "        if not labels:\n",
        "            print(\"No labels found.\")\n",
        "            return\n",
        "        print(\"Labels:\")\n",
        "        for label in labels:\n",
        "            print(label[\"name\"])\n",
        "\n",
        "    except HttpError as error:\n",
        "        # TODO(developer) - Handle errors from gmail API.\n",
        "        print(f\"An error occurred: {error}\")\n",
        "\n",
        "\n",
        "if __name__ == \"__main__\":\n",
        "    main()"
      ],
      "metadata": {
        "id": "Mibci9dipsSk"
      },
      "execution_count": null,
      "outputs": []
    },
    {
      "cell_type": "markdown",
      "source": [
        "## V.2\n",
        "\n",
        "골떄리게도 구글 공홈의 여러곳에서 발견되는 코드인데, 2024.9 현재 그대로 사용하면 안된다. 구글 맹신론자인 내 입장에선 조금 당황스럽기는 하다. ~~이 역시 온오프라인 개발환경, 즉 브라우저 UI를 사용할 수 있는 환경여부에 따라 조금 설정을 바꿔줘야 한다. ~~"
      ],
      "metadata": {
        "id": "UrIq73mPm-SU"
      }
    },
    {
      "cell_type": "markdown",
      "source": [
        "digital-detox-test@digital-detox-240923.iam.gserviceaccount.com"
      ],
      "metadata": {
        "id": "hrMFW6fZ-aUo"
      }
    },
    {
      "cell_type": "code",
      "source": [
        "# !pip install --upgrade google-api-python-client google-auth-httplib2 google-auth-oauthlib -q\n",
        "# ERROR: pip's dependency resolver does not currently take into account all the packages that are installed. This behaviour is the source of the following dependency conflicts.\n",
        "# google-colab 1.0.0 requires google-auth==2.27.0, but you have google-auth 2.35.0 which is incompatible.\n",
        "# 보통 인터넷에 도는 많은 샘플코드가 위와 같이 안내하지만, 패키지 버전 불일치로 다음과 같은 에러가 난다.\n",
        "# AttributeError: 'InstalledAppFlow' object has no attribute 'run_console'\n",
        "\n",
        "# 다음과 같이 강제로 패키지 버전을 지정해서, 버전을 맞춰주면 실행이 된다.\n",
        "# 다만 이 경우, 승인과정 중에 사람의 관여가 필요하게 되는 불편함이 있다.\n",
        "# !pip install google-api-python-client==1.7.2 google-auth==1.8.0 google-auth-httplib2==0.0.3 google-auth-oauthlib==0.4.1 -q"
      ],
      "metadata": {
        "id": "Cz3PFfC3oG5R"
      },
      "execution_count": null,
      "outputs": []
    },
    {
      "cell_type": "code",
      "source": [
        "# 아래 샘플은 지메일관련내용\n",
        "\n",
        "import os.path\n",
        "\n",
        "from google.auth.transport.requests import Request\n",
        "from google.oauth2.credentials import Credentials\n",
        "from google_auth_oauthlib.flow import InstalledAppFlow\n",
        "from googleapiclient.discovery import build\n",
        "from googleapiclient.errors import HttpError\n",
        "\n",
        "# If modifying these scopes, delete the file token.json.\n",
        "SCOPES = [\"https://www.googleapis.com/auth/gmail.readonly\"]\n",
        "\n",
        "\n",
        "def main():\n",
        "  \"\"\"Shows basic usage of the Gmail API.\n",
        "  Lists the user's Gmail labels.\n",
        "  \"\"\"\n",
        "  creds = None\n",
        "  # The file token.json stores the user's access and refresh tokens, and is\n",
        "  # created automatically when the authorization flow completes for the first\n",
        "  # time.\n",
        "  if os.path.exists(\"token.json\"):\n",
        "    creds = Credentials.from_authorized_user_file(\"token.json\", SCOPES)\n",
        "  # If there are no (valid) credentials available, let the user log in.\n",
        "  if not creds or not creds.valid:\n",
        "    if creds and creds.expired and creds.refresh_token:\n",
        "      creds.refresh(Request())\n",
        "    else:\n",
        "      flow = InstalledAppFlow.from_client_secrets_file(\n",
        "          \"/content/client_secret.json\", SCOPES\n",
        "      )\n",
        "\n",
        "    # On local dev env\n",
        "      creds = flow.run_local_server(\n",
        "        # bind_addr=\"35.237.241.229\",\n",
        "        open_browser=False,\n",
        "        port=10000\n",
        "      )\n",
        "\n",
        "    # On online dev env like colab // 이건 아예 하면 안됨.\n",
        "    #   creds = flow.run_console()\n",
        "\n",
        "    # Save the credentials for the next run\n",
        "    with open(\"token.json\", \"w\") as token:\n",
        "      token.write(creds.to_json())\n",
        "\n",
        "  try:\n",
        "    # Call the Gmail API\n",
        "    service = build(\"gmail\", \"v1\", credentials=creds)\n",
        "    results = service.users().labels().list(userId=\"me\").execute()\n",
        "    labels = results.get(\"labels\", [])\n",
        "\n",
        "    if not labels:\n",
        "      print(\"No labels found.\")\n",
        "      return\n",
        "    print(\"Labels:\")\n",
        "    for label in labels:\n",
        "      print(label[\"name\"])\n",
        "\n",
        "  except HttpError as error:\n",
        "    # TODO(developer) - Handle errors from gmail API.\n",
        "    print(f\"An error occurred: {error}\")\n",
        "\n",
        "\n",
        "if __name__ == \"__main__\":\n",
        "  main()"
      ],
      "metadata": {
        "id": "UBcadONrm-r6"
      },
      "execution_count": null,
      "outputs": []
    },
    {
      "cell_type": "markdown",
      "source": [
        "### ISSUE :\n",
        "위를 실행시키면... 아래와 같이 'localhost'로 회신이 온다. 아마도 이걸 코랩의 주소로 받아야 할 것 같은데... 지금의 내실력으로는 무리.\n",
        "\n",
        "http://localhost:10000/?state=meP5QVSK9JeSNvRvtq2Y99Tb0F8C0K&code=4/0AQlEd8y8V42rGrJ49t5noaZi4Li9CsUyMmDKlS2dllhTk9S-S2k8nwzzfFdf-WPr7Asawg&scope=https://www.googleapis.com/auth/gmail.readonly"
      ],
      "metadata": {
        "id": "54CJGb08P_48"
      }
    },
    {
      "cell_type": "code",
      "source": [
        "!curl ipecho.net/plain"
      ],
      "metadata": {
        "id": "QGMT11a9NzwP"
      },
      "execution_count": null,
      "outputs": []
    },
    {
      "cell_type": "markdown",
      "source": [
        "## google auth in colab (성공)\n",
        "\n",
        "중간에 사람의 개입이 필요하지만, redirect 를 설정할 수 없는 현재로서는 성공이 확실한 아래 방법을 사용하자."
      ],
      "metadata": {
        "id": "wlTCjOzCld94"
      }
    },
    {
      "cell_type": "code",
      "source": [
        "# from os import name\n",
        "# from __future__ import print_function\n",
        "\n",
        "from googleapiclient import discovery\n",
        "from httplib2 import Http\n",
        "from oauth2client import file, client, tools\n",
        "\n",
        "def get_auth(type, scopes):\n",
        "    store = file.Storage(f'{type}_storage.json')\n",
        "    creds = store.get()\n",
        "\n",
        "    if not creds or creds.invalid:\n",
        "        flow = client.flow_from_clientsecrets('/content/client_secret.json', scopes)\n",
        "\n",
        "        # When use on local dev env.\n",
        "        # creds = tools.run_flow(flow, store)\n",
        "\n",
        "        # When use on online dev env\n",
        "        creds = tools.run_flow(flow, store,flags=tools.argparser.parse_args(['--noauth_local_webserver']))\n",
        "\n",
        "    return creds\n",
        "\n",
        "def get_drive():\n",
        "    DRIVE_SCOPES = 'https://www.googleapis.com/auth/drive.readonly.metadata'\n",
        "    creds = get_auth('drive', DRIVE_SCOPES)\n",
        "    DRIVE = discovery.build('drive', 'v3', http=creds.authorize(Http()))\n",
        "    return DRIVE\n",
        "\n",
        "\n",
        "def get_mail():\n",
        "    MAIL_SCOPES = [\"https://www.googleapis.com/auth/gmail.readonly\"]\n",
        "    creds = get_auth('mail', MAIL_SCOPES)\n",
        "    MAIL = build(\"gmail\", \"v1\", credentials=creds)\n",
        "    return MAIL\n",
        "\n",
        "# for google drive\n",
        "DRIVE = get_drive()\n",
        "files = DRIVE.files().list().execute().get('files', [])\n",
        "for f in files:\n",
        "    print(f['name'], f['mimeType'])\n",
        "\n",
        "# for gmail\n",
        "MAILS = get_mail()\n",
        "results = MAILS.users().labels().list(userId=\"me\").execute()\n",
        "labels = results.get(\"labels\", [])\n",
        "\n",
        "print(\"Labels:\")\n",
        "for label in labels:\n",
        "    print(label[\"name\"])"
      ],
      "metadata": {
        "id": "1CC66cCklf1B"
      },
      "execution_count": null,
      "outputs": []
    },
    {
      "cell_type": "markdown",
      "source": [
        "## V.1 (성공)\n",
        "- 로컬환경에서는 문제없이 사용가능.\n",
        "- 온라인환경에서도 사용하기 위해서는 다음처럼 코드를 변경해줘야 한다.\n",
        "```python\n",
        "# '나 지금 개발환경에서 사용할 수 있는 브라우저가 없다.'고 시스템에 알려주는 것.\n",
        "# 그럼 로컬환경의 브라우저를 열 수 있는 링크를 전달해준다.\n",
        "creds = tools.run_flow(flow, store,flags=tools.argparser.parse_args(['--noauth_local_webserver']))\n",
        "```"
      ],
      "metadata": {
        "id": "X1Nw2TZLm7ya"
      }
    },
    {
      "cell_type": "code",
      "execution_count": null,
      "metadata": {
        "id": "7IYKpeTgj6iP"
      },
      "outputs": [],
      "source": [
        "pip install -U pip google-api-python-client oauth2client -q"
      ]
    },
    {
      "cell_type": "code",
      "source": [
        "# 아래 샘플은 구글드라이브\n",
        "\n",
        "from __future__ import print_function\n",
        "\n",
        "from googleapiclient import discovery\n",
        "from httplib2 import Http\n",
        "from oauth2client import file, client, tools\n",
        "\n",
        "SCOPES = 'https://www.googleapis.com/auth/drive.readonly.metadata'\n",
        "store = file.Storage('storage.json')\n",
        "creds = store.get()\n",
        "\n",
        "if not creds or creds.invalid:\n",
        "    flow = client.flow_from_clientsecrets('/content/client_secret.json', SCOPES)\n",
        "\n",
        "    # When use on local dev env.\n",
        "    # creds = tools.run_flow(flow, store)\n",
        "\n",
        "    # When use on online dev env\n",
        "    creds = tools.run_flow(flow, store,flags=tools.argparser.parse_args(['--noauth_local_webserver']))\n",
        "\n",
        "DRIVE = discovery.build('drive', 'v3', http=creds.authorize(Http()))\n",
        "\n",
        "files = DRIVE.files().list().execute().get('files', [])\n",
        "for f in files:\n",
        "    print(f['name'], f['mimeType'])"
      ],
      "metadata": {
        "collapsed": true,
        "id": "zs4b8-MhoeeP"
      },
      "execution_count": null,
      "outputs": []
    }
  ]
}